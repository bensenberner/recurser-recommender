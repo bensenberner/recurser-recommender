{
 "cells": [
  {
   "cell_type": "markdown",
   "metadata": {},
   "source": [
    "The purpose of this notebook is to \n",
    "1. collect the profile of every affiliate of RC from the directory\n",
    "2. determine the date of their most recent stint\n",
    "3. filter for people with data science interests\n",
    "4. store this dataframe representing these people in a pickle\n",
    "\n",
    "This pickle will be used as the database of the recurser suggester script"
   ]
  },
  {
   "cell_type": "code",
   "execution_count": 269,
   "metadata": {},
   "outputs": [],
   "source": [
    "import requests\n",
    "import json\n",
    "from urllib.parse import urlencode\n",
    "from time import sleep\n",
    "import pandas as pd\n",
    "import time\n",
    "import re\n",
    "import os\n",
    "\"\"\"\n",
    "this represents how nice the scriptrunner is (that's you!)\n",
    "The higher, the better!\n",
    "It is also used to space out requests made to the RC directory service.\n",
    "Do a 10 minute meditation when you run collect_full_results()\n",
    "\"\"\"\n",
    "SCRIPTRUNNER_NICENESS_VALUE_IN_SECONDS = 1.5"
   ]
  },
  {
   "cell_type": "code",
   "execution_count": 143,
   "metadata": {},
   "outputs": [],
   "source": [
    "def collect_full_results():\n",
    "    total_num_profiles = 1757\n",
    "    url_base = \"https://www.recurse.com/api/v1/profiles?\"\n",
    "    auth_token = os.env['RECURSE_AUTH_TOKEN']\n",
    "    headers = {'Authorization': 'Bearer ' + auth_token}\n",
    "    offset = 0\n",
    "    limit = 15\n",
    "    full_results = []\n",
    "    while len(full_results) < total_num_profiles:\n",
    "        sleep(SCRIPTRUNNER_NICENESS_VALUE_IN_SECONDS)\n",
    "        query_string = urlencode(dict(offset=offset, limit=limit))\n",
    "        url = url_base + query_string\n",
    "        response = requests.get(url, headers=headers)\n",
    "        full_results.extend(response.json())\n",
    "        offset += limit\n",
    "    return full_results"
   ]
  },
  {
   "cell_type": "code",
   "execution_count": 144,
   "metadata": {},
   "outputs": [],
   "source": [
    "full_results = collect_full_results()"
   ]
  },
  {
   "cell_type": "code",
   "execution_count": 310,
   "metadata": {},
   "outputs": [],
   "source": [
    "df = pd.DataFrame(full_results)"
   ]
  },
  {
   "cell_type": "code",
   "execution_count": 312,
   "metadata": {},
   "outputs": [],
   "source": [
    "def most_recent_attend(row):\n",
    "    stints = row['stints']\n",
    "    if not stints:\n",
    "        return None\n",
    "    most_recent_start_date = stints[0]['start_date']\n",
    "    if len(stints) == 1:\n",
    "        return most_recent_start_date\n",
    "    for stint in stints[1:]:\n",
    "        curr_start_date = stint['start_date']\n",
    "        most_recent_start_date = max(most_recent_start_date, curr_start_date)\n",
    "    return most_recent_start_date"
   ]
  },
  {
   "cell_type": "code",
   "execution_count": 311,
   "metadata": {},
   "outputs": [],
   "source": [
    "df['most_recent_date'] = pd.to_datetime(\n",
    "    df.apply(lambda row: most_recent_attend(row), axis=1)\n",
    ")"
   ]
  },
  {
   "cell_type": "code",
   "execution_count": 357,
   "metadata": {},
   "outputs": [],
   "source": [
    "data_sci_prog = re.compile(\n",
    "    r'(data scien)|((machine|deep) learning)|(nlp)|(computer vision)|(natural language processing)|(ml)',\n",
    "    flags=re.IGNORECASE\n",
    ")\n",
    "def filter_for_keywords(*values):\n",
    "    return any(\n",
    "        bool(data_sci_prog.search(value))\n",
    "        for value in values\n",
    "    )"
   ]
  },
  {
   "cell_type": "code",
   "execution_count": 358,
   "metadata": {},
   "outputs": [],
   "source": [
    "keyword_filtered_df = df[\n",
    "    df[['before_rc_rendered', 'interests_rendered', 'bio_rendered', 'during_rc_rendered']]\n",
    "    .apply(\n",
    "        lambda values: filter_for_keywords(*values), axis=1\n",
    "    )\n",
    "]"
   ]
  },
  {
   "cell_type": "code",
   "execution_count": 359,
   "metadata": {
    "scrolled": true
   },
   "outputs": [
    {
     "name": "stderr",
     "output_type": "stream",
     "text": [
      "/usr/local/Cellar/ipython/7.2.0/libexec/vendor/lib/python3.7/site-packages/ipykernel_launcher.py:2: SettingWithCopyWarning: \n",
      "A value is trying to be set on a copy of a slice from a DataFrame.\n",
      "Try using .loc[row_indexer,col_indexer] = value instead\n",
      "\n",
      "See the caveats in the documentation: http://pandas.pydata.org/pandas-docs/stable/indexing.html#indexing-view-versus-copy\n",
      "  \n"
     ]
    }
   ],
   "source": [
    "small_df = keyword_filtered_df[['name', 'slug', 'most_recent_date']]\n",
    "small_df['rating'] = None"
   ]
  },
  {
   "cell_type": "code",
   "execution_count": 361,
   "metadata": {},
   "outputs": [],
   "source": [
    "small_df.to_pickle('ratings.pickle')"
   ]
  }
 ],
 "metadata": {
  "kernelspec": {
   "display_name": "Python 3",
   "language": "python",
   "name": "python3"
  },
  "language_info": {
   "codemirror_mode": {
    "name": "ipython",
    "version": 3
   },
   "file_extension": ".py",
   "mimetype": "text/x-python",
   "name": "python",
   "nbconvert_exporter": "python",
   "pygments_lexer": "ipython3",
   "version": "3.7.2"
  }
 },
 "nbformat": 4,
 "nbformat_minor": 2
}
