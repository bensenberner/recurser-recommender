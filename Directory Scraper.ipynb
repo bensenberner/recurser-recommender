{
 "cells": [
  {
   "cell_type": "markdown",
   "metadata": {},
   "source": [
    "The purpose of this notebook is to \n",
    "1. collect the profile of every affiliate of RC from the directory\n",
    "2. determine the date of their most recent stint\n",
    "3. filter for people with specific interests (matching a regex)\n",
    "4. store this dataframe representing these people in a pickle\n",
    "\n",
    "This pickle will be used as the database of the recurser suggester script"
   ]
  },
  {
   "cell_type": "code",
   "execution_count": 49,
   "metadata": {},
   "outputs": [],
   "source": [
    "import requests\n",
    "import json\n",
    "from urllib.parse import urlencode\n",
    "from time import sleep\n",
    "import pandas as pd\n",
    "import time\n",
    "import re\n",
    "import os"
   ]
  },
  {
   "cell_type": "code",
   "execution_count": 50,
   "metadata": {},
   "outputs": [],
   "source": [
    "def get_auth_token() -> str:\n",
    "    return (\n",
    "        os.environ.get(\"RECURSE_AUTH_TOKEN\")\n",
    "        if os.environ.get(\"RECURSE_AUTH_TOKEN\")\n",
    "        else input(\n",
    "            \"Could not find a $RECURSE_AUTH_TOKEN in your environment.\\n\"\n",
    "            \"Please visit https://www.recurse.com/settings/apps to create a new app token and paste it in here:\"\n",
    "        )\n",
    "    )\n",
    "\n",
    "\n",
    "def collect_directory_into_df(initial_offset=0) -> pd.DataFrame:\n",
    "    # currently 1773 recursers; about 3Mb of data\n",
    "    url_base = \"https://www.recurse.com/api/v1/profiles?\"\n",
    "    auth_token = get_auth_token()\n",
    "    headers = {\"Authorization\": \"Bearer \" + auth_token}\n",
    "    offset = initial_offset\n",
    "    limit = 15\n",
    "    full_results = []\n",
    "    while True:\n",
    "        query_string = urlencode(dict(offset=offset, limit=limit))\n",
    "        url = url_base + query_string\n",
    "        response = requests.get(url, headers=headers)\n",
    "        new_results = response.json()\n",
    "        if not new_results:\n",
    "            break\n",
    "        full_results.extend(new_results)\n",
    "        offset += limit\n",
    "    return pd.DataFrame(full_results)"
   ]
  },
  {
   "cell_type": "code",
   "execution_count": 43,
   "metadata": {},
   "outputs": [
    {
     "name": "stdin",
     "output_type": "stream",
     "text": [
      "Could not find your RECURSE_AUTH_TOKEN in your environment.\n",
      "Please visit https://www.recurse.com/settings/apps to create a new app token and paste it in here: be7c164f4c1b2a8a833c0e19691ddc4eb16b84fbe92fb469f6109d04a44fbdb7\n"
     ]
    }
   ],
   "source": [
    "start_time = time.time()\n",
    "df = collect_full_results_into_df()\n",
    "end_time = time.time()"
   ]
  },
  {
   "cell_type": "code",
   "execution_count": 51,
   "metadata": {},
   "outputs": [],
   "source": [
    "def get_attendance_date_column(df):\n",
    "    def most_recent_attendance(row):\n",
    "        stints = row[\"stints\"]\n",
    "        if not stints:\n",
    "            return None\n",
    "        most_recent_start_date = stints[0][\"start_date\"]\n",
    "        if len(stints) == 1:\n",
    "            return most_recent_start_date\n",
    "        for stint in stints[1:]:\n",
    "            # using start date because some people don't have end dates\n",
    "            curr_start_date = stint[\"start_date\"]\n",
    "            most_recent_start_date = max(most_recent_start_date, curr_start_date)\n",
    "        return most_recent_start_date\n",
    "\n",
    "    return pd.to_datetime(df.apply(lambda row: most_recent_attend(row), axis=1))"
   ]
  },
  {
   "cell_type": "code",
   "execution_count": 52,
   "metadata": {},
   "outputs": [],
   "source": [
    "def create_df_filtered_by_pattern(\n",
    "    df: pd.DataFrame, regex_pattern: re.Pattern\n",
    ") -> pd.DataFrame:\n",
    "    def filter_for_keywords(*values):\n",
    "        return any(bool(regex_pattern.search(value)) for value in values)\n",
    "    text_cols = df[\n",
    "        [\n",
    "            \"before_rc_rendered\",\n",
    "            \"interests_rendered\",\n",
    "            \"bio_rendered\",\n",
    "            \"during_rc_rendered\",\n",
    "        ]\n",
    "    ]\n",
    "    return df[text_cols.apply(lambda values: filter_for_keywords(*values), axis=1)]"
   ]
  },
  {
   "cell_type": "code",
   "execution_count": 73,
   "metadata": {},
   "outputs": [],
   "source": [
    "def create_df_with_regex_pattern(pattern_str: str, initial_offset=0):\n",
    "    regex_pattern = re.compile(pattern_str, flags=re.IGNORECASE)    \n",
    "    original_df = collect_directory_into_df(initial_offset)\n",
    "    original_df[\"most_recent_date\"] = get_attendance_date_column(original_df)\n",
    "    keyword_filtered_df = create_df_filtered_by_pattern(original_df, regex_pattern)\n",
    "    small_df = keyword_filtered_df[[\"name\", \"email\", \"slug\", \"most_recent_date\"]]\n",
    "    small_df.assign(rating=None)\n",
    "    return small_df"
   ]
  },
  {
   "cell_type": "code",
   "execution_count": 74,
   "metadata": {},
   "outputs": [
    {
     "name": "stdin",
     "output_type": "stream",
     "text": [
      "Could not find a $RECURSE_AUTH_TOKEN in your environment.\n",
      "Please visit https://www.recurse.com/settings/apps to create a new app token and paste it in here: be7c164f4c1b2a8a833c0e19691ddc4eb16b84fbe92fb469f6109d04a44fbdb7\n"
     ]
    }
   ],
   "source": [
    "data_sci_pattern_str = r\"(data scien)|((machine|deep) learning)|(nlp)|(computer vision)|(natural language processing)|(ml)\"\n",
    "bluh = create_df_with_regex_pattern(data_sci_pattern_str, initial_offset=1720)"
   ]
  },
  {
   "cell_type": "code",
   "execution_count": null,
   "metadata": {},
   "outputs": [],
   "source": []
  }
 ],
 "metadata": {
  "kernelspec": {
   "display_name": "recurser-recommender",
   "language": "python",
   "name": "recurser-recommender"
  },
  "language_info": {
   "codemirror_mode": {
    "name": "ipython",
    "version": 3
   },
   "file_extension": ".py",
   "mimetype": "text/x-python",
   "name": "python",
   "nbconvert_exporter": "python",
   "pygments_lexer": "ipython3",
   "version": "3.8.3"
  }
 },
 "nbformat": 4,
 "nbformat_minor": 4
}
